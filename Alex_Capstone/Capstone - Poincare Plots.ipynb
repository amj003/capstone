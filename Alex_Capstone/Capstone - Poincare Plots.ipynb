{
 "metadata": {
  "name": "",
  "signature": "sha256:2c3d329f493952be925063558b3648e74e6a226a7d6578f997f5ee9603ae84fa"
 },
 "nbformat": 3,
 "nbformat_minor": 0,
 "worksheets": [
  {
   "cells": [
    {
     "cell_type": "code",
     "collapsed": false,
     "input": [
      "import numpy as np\n",
      "import matplotlib.pyplot as plt\n",
      "from scipy import integrate\n",
      "\n",
      "%pylab inline\n"
     ],
     "language": "python",
     "metadata": {},
     "outputs": [
      {
       "output_type": "stream",
       "stream": "stdout",
       "text": [
        "Populating the interactive namespace from numpy and matplotlib\n"
       ]
      }
     ],
     "prompt_number": 6
    },
    {
     "cell_type": "code",
     "collapsed": false,
     "input": [
      "##Simple pendulum, let y = theta \n",
      "## theta'' - sin(theta) = 0\n",
      "## theta'' = sin(theta)\n",
      "\n",
      "#let theta = y(t)\n",
      "#let theta' = y'(t)\n",
      "\n",
      "#u1(t) = y(t)\n",
      "#u2(t) = y'(t)\n",
      "#u1'(t) = u2(t)\n",
      "#u2'(t) = sin(u1(t))\n",
      "\n",
      "\n",
      "def RK():\n",
      "    h = .1\n",
      "    def f1(t, u1, u2):\n",
      "        return u2\n",
      "    def f2(t, u1, u2):\n",
      "        return sin(u1)\n",
      "    u1_0 = .5\n",
      "    u2_0 = 1.\n",
      "    t0 = 0.0\n",
      "    n = 0\n",
      "    time = np.linspace(0, 1000, 1001)\n",
      "    list_w1 = []\n",
      "    list_w2 = []\n",
      "    for n in time:\n",
      "        k1_1 = h*f1(t0, u1_0, u2_0)\n",
      "        k1_2 = h*f2(t0, u1_0, u2_0)\n",
      "        k2_1 = h*f1(t0 + 0.5*h, u1_0 + 0.5*k1_1, u2_0 + 0.5*k1_2)\n",
      "        k2_2 = h*f2(t0 + 0.5*h, u1_0 + 0.5*k1_1, u2_0 + 0.5*k1_2)\n",
      "        k3_1 = h*f1(t0 + 0.5*h, u1_0 + 0.5*k2_1, u2_0 + 0.5*k2_2)\n",
      "        k3_2 = h*f2(t0 + 0.5*h, u1_0 + 0.5*k2_1, u2_0 + 0.5*k2_2)\n",
      "        k4_1 = h*f1(t0 + h, u1_0 + k3_1, u2_0 + k3_2)\n",
      "        k4_2 = h*f2(t0 + h, u1_0 + k3_1, u2_0 + k3_2)\n",
      "        w1_1 = u1_0 + (1.0/6.0)*(k1_1 + 2*k2_1 + 2*k3_1 + k4_1)\n",
      "        w2_1 = u2_0 + (1.0/6.0)*(k1_2 + 2*k2_2 + 2*k3_2 + k4_2)\n",
      "        u1_0 = w1_1\n",
      "        u2_0 = w2_1\n",
      "        t0 = t0 + h\n",
      "        n = n+1\n",
      "        list_w1.append(w1_1)\n",
      "        list_w2.append(w2_1)\n",
      "    w1 = np.array(list_w1)\n",
      "    w2 = np.array(list_w2)\n",
      "    plot(time, w2)\n",
      "RK()\n",
      "\n",
      "\n"
     ],
     "language": "python",
     "metadata": {},
     "outputs": [
      {
       "metadata": {},
       "output_type": "display_data",
       "png": "[encoded data removed]",
       "text": [
        "<matplotlib.figure.Figure at 0x10673dcd0>"
       ]
      }
     ],
     "prompt_number": 8
    },
    {
     "cell_type": "code",
     "collapsed": false,
     "input": [
      "x = [20, 1000, 400, -50]\n",
      "\n",
      "n = 0\n",
      "for i in x:\n",
      "    if i < 0:\n",
      "        i += 360\n",
      "        x[n] = i\n",
      "    if i > 180:\n",
      "        i -= 360\n",
      "        x[n] = i\n",
      "    n += 1 \n",
      "\n",
      "print x   "
     ],
     "language": "python",
     "metadata": {},
     "outputs": [
      {
       "output_type": "stream",
       "stream": "stdout",
       "text": [
        "[-50, 1000, 400, -50]\n"
       ]
      }
     ],
     "prompt_number": 5
    },
    {
     "cell_type": "code",
     "collapsed": false,
     "input": [],
     "language": "python",
     "metadata": {},
     "outputs": []
    }
   ],
   "metadata": {}
  }
 ]
}