{
 "metadata": {
  "celltoolbar": "Slideshow",
  "name": "",
  "signature": "sha256:bb11f30435c1acca1421c5c852241f1739245175de16d1def7e349585f4eed88"
 },
 "nbformat": 3,
 "nbformat_minor": 0,
 "worksheets": [
  {
   "cells": [
    {
     "cell_type": "heading",
     "level": 1,
     "metadata": {
      "slideshow": {
       "slide_type": "slide"
      }
     },
     "source": [
      "Week Three Progress Report"
     ]
    },
    {
     "cell_type": "code",
     "collapsed": false,
     "input": [
      "\n",
      "import os\n",
      "%run talktools\n",
      "\n"
     ],
     "language": "python",
     "metadata": {
      "slideshow": {
       "slide_type": "skip"
      }
     },
     "outputs": [
      {
       "html": [
        "<style>\n",
        "\n",
        ".rendered_html\n",
        "{\n",
        "  color: #2C5494;\n",
        "  font-family: Ubuntu;\n",
        "  font-size: 140%;\n",
        "  line-height: 1.1;\n",
        "  margin: 0.5em 0;\n",
        "  }\n",
        "\n",
        ".title\n",
        "{\n",
        "  color: #498AF3;\n",
        "  font-size: 250%;\n",
        "  font-weight:bold;\n",
        "  line-height: 1.2; \n",
        "  margin: 10px 50px 10px;\n",
        "  }\n",
        "\n",
        ".subtitle\n",
        "{\n",
        "  color: #386BBC;\n",
        "  font-size: 180%;\n",
        "  font-weight:bold;\n",
        "  line-height: 1.2; \n",
        "  margin: 20px 50px 20px;\n",
        "  }\n",
        "\n",
        ".slide-header, p.slide-header\n",
        "{\n",
        "  color: #498AF3;\n",
        "  font-size: 200%;\n",
        "  font-weight:bold;\n",
        "  margin: 0px 20px 10px;\n",
        "  page-break-before: always;\n",
        "  text-align: center;\n",
        "  }\n",
        "\n",
        ".rendered_html h1\n",
        "{\n",
        "  color: #498AF3;\n",
        "  line-height: 1.2; \n",
        "  margin: 0.15em 0em 0.5em;\n",
        "  page-break-before: always;\n",
        "  text-align: center;\n",
        "  }\n",
        "\n",
        "\n",
        ".rendered_html h2\n",
        "{ \n",
        "  color: #386BBC;\n",
        "  line-height: 1.2;\n",
        "  margin: 1.1em 0em 0.5em;\n",
        "  }\n",
        "\n",
        ".rendered_html h3\n",
        "{ \n",
        "  font-size: 100%;\n",
        "  line-height: 1.2;\n",
        "  margin: 1.1em 0em 0.5em;\n",
        "  }\n",
        "\n",
        ".rendered_html li\n",
        "{\n",
        "  line-height: 1.8;\n",
        "  }\n",
        "\n",
        ".input_prompt, .CodeMirror-lines, .output_area\n",
        "{\n",
        "  font-family: Consolas;\n",
        "  font-size: 120%;\n",
        "  }\n",
        "\n",
        ".gap-above\n",
        "{\n",
        "  padding-top: 200px;\n",
        "  }\n",
        "\n",
        ".gap01\n",
        "{\n",
        "  padding-top: 10px;\n",
        "  }\n",
        "\n",
        ".gap05\n",
        "{\n",
        "  padding-top: 50px;\n",
        "  }\n",
        "\n",
        ".gap1\n",
        "{\n",
        "  padding-top: 100px;\n",
        "  }\n",
        "\n",
        ".gap2\n",
        "{\n",
        "  padding-top: 200px;\n",
        "  }\n",
        "\n",
        ".gap3\n",
        "{\n",
        "  padding-top: 300px;\n",
        "  }\n",
        "\n",
        ".emph\n",
        "{\n",
        "  color: #386BBC;\n",
        "  }\n",
        "\n",
        ".warn\n",
        "{\n",
        "  color: red;\n",
        "  }\n",
        "\n",
        ".center\n",
        "{\n",
        "  text-align: center;\n",
        "  }\n",
        "\n",
        ".nb_link\n",
        "{\n",
        "    padding-bottom: 0.5em;\n",
        "}\n",
        "\n",
        "</style>\n"
       ],
       "metadata": {},
       "output_type": "display_data",
       "text": [
        "<IPython.core.display.HTML at 0x104f1c3d0>"
       ]
      }
     ],
     "prompt_number": 7
    },
    {
     "cell_type": "heading",
     "level": 4,
     "metadata": {
      "slideshow": {
       "slide_type": "slide"
      }
     },
     "source": [
      "Double Spherical Pendulum "
     ]
    },
    {
     "cell_type": "markdown",
     "metadata": {
      "slideshow": {
       "slide_type": "fragment"
      }
     },
     "source": [
      "This week I caught a problem with the derivation of components for my previous calculation of the Lagrangian of the double spherical pendulum. The problem was that $\\phi_1$ dependence was being ignored, which produced overly simple equations of motion. The correct Lagrangian is shown below:\n",
      "\n",
      "\n",
      "$$ {\\dot{\\theta_1}^2 \\over 2} + {\\dot{\\theta_2}^2 \\over 2} \n",
      "+ {\\dot{\\phi_1}^2 \\over 2} \\mathrm{sin}^2 \\: \\theta_1 \n",
      "+ {\\dot{\\phi_2}^2 \\over 2} \\mathrm{sin}^2 \\: \\theta_2 \n",
      "+ \\dot{\\theta_1} \\, \\dot{\\theta_2} \\: \\mathrm{sin } \\: \\theta_1 \\, \\mathrm{sin} \\: \\theta_2 \n",
      "+ \\dot{\\theta_1} \\, \\dot{\\theta_2} \\: \\mathrm{cos} \\: \\theta_1 \\, \\mathrm{cos} \\: \\theta_2 \\, \\mathrm{cos} \\: ( \\phi_1 - \\phi_2)\n",
      "+ \\dot{\\theta_1} \\, \\dot{\\phi_2} \\: \\mathrm{cos} \\: \\theta_1 \\, \\mathrm{sin} \\: \\theta_2 \\, \\mathrm{sin} \\: ( \\phi_1 - \\phi_2)\n",
      "- \\dot{\\phi_1} \\, \\dot{\\theta_2} \\: \\mathrm{sin} \\: \\theta_1 \\, \\mathrm{cos} \\: \\theta_2 \\, \\mathrm{sin} \\: ( \\phi_1 - \\phi_2)\n",
      "+ \\dot{\\phi_1} \\, \\dot{\\phi_2} \\: \\mathrm{sin} \\: \\theta_1 \\, \\mathrm{sin} \\: \\theta_2 \\, \\mathrm{cos} \\: ( \\phi_1 - \\phi_2)\n",
      "+ \\mathrm{cos} \\: \\theta_1 + \\mathrm{cos} \\: \\theta_2 = 0\n",
      "$$\n"
     ]
    },
    {
     "cell_type": "heading",
     "level": 4,
     "metadata": {
      "slideshow": {
       "slide_type": "slide"
      }
     },
     "source": [
      "Damped Driven Spherical Pendulum "
     ]
    },
    {
     "cell_type": "markdown",
     "metadata": {
      "slideshow": {
       "slide_type": "fragment"
      }
     },
     "source": [
      "To add a driving force to the Lagrangian, a sinusoidal term was folded into the potential energy, highlighted in red. \n",
      "\n",
      "$$ {\\dot{\\theta_1}^2 \\over 2} + {\\dot{\\theta_2}^2 \\over 2} \n",
      "+ {\\dot{\\phi_1}^2 \\over 2} \\mathrm{sin}^2 \\: \\theta_1 \n",
      "+ {\\dot{\\phi_2}^2 \\over 2} \\mathrm{sin}^2 \\: \\theta_2 \n",
      "+ \\dot{\\theta_1} \\, \\dot{\\theta_2} \\: \\mathrm{sin } \\: \\theta_1 \\, \\mathrm{sin} \\: \\theta_2 \n",
      "+ \\dot{\\theta_1} \\, \\dot{\\theta_2} \\: \\mathrm{cos} \\: \\theta_1 \\, \\mathrm{cos} \\: \\theta_2 \\, \\mathrm{cos} \\: ( \\phi_1 - \\phi_2)\n",
      "+ \\dot{\\theta_1} \\, \\dot{\\phi_2} \\: \\mathrm{cos} \\: \\theta_1 \\, \\mathrm{sin} \\: \\theta_2 \\, \\mathrm{sin} \\: ( \\phi_1 - \\phi_2)\n",
      "- \\dot{\\phi_1} \\, \\dot{\\theta_2} \\: \\mathrm{sin} \\: \\theta_1 \\, \\mathrm{cos} \\: \\theta_2 \\, \\mathrm{sin} \\: ( \\phi_1 - \\phi_2)\n",
      "+ \\dot{\\phi_1} \\, \\dot{\\phi_2} \\: \\mathrm{sin} \\: \\theta_1 \\, \\mathrm{sin} \\: \\theta_2 \\, \\mathrm{cos} \\: ( \\phi_1 - \\phi_2)\n",
      "+ \\mathrm{cos} \\: \\theta_1 + \\mathrm{cos} \\: \\theta_2 - \\color{red}{ F \\,\\mathrm{cos} (\\omega t)} = 0\n",
      "$$\n",
      "\n",
      "Where $t$ is time, $F$ is the driving force amplitude, and $\\omega$ is the driving force frequency. Unfortunately, this is incorrect as I forgot to additionally change the z-component in the derivation of the kinetic energy, which meant that the driving force term was disappearing when the derivations for equations of motion were taken.\n"
     ]
    },
    {
     "cell_type": "heading",
     "level": 4,
     "metadata": {
      "slideshow": {
       "slide_type": "slide"
      }
     },
     "source": [
      "Equations of Motion"
     ]
    },
    {
     "cell_type": "markdown",
     "metadata": {
      "slideshow": {
       "slide_type": "fragment"
      }
     },
     "source": [
      "$\\theta_1$:\n",
      "\n",
      "$$ \\ddot{\\theta_1} \n",
      "+ \\ddot{\\phi_2} \\: \\mathrm{cos} \\: \\theta_1 \\, \\mathrm{sin} \\: \\theta_2 \\, \\mathrm{sin} \\: ( \\phi_1 - \\phi_2)\n",
      "+ 2 \\dot{\\theta_2} \\, \\dot{\\phi_2} \\: \\mathrm{cos} \\: \\theta_1 \\, \\mathrm{cos} \\: \\theta_2 \\, \\mathrm{sin} \\: ( \\phi_1 - \\phi_2)\n",
      "- \\dot{\\phi_2}^2 \\: \\mathrm{cos} \\: \\theta_1 \\, \\mathrm{sin} \\: \\theta_2 \\, \\mathrm{cos} \\: ( \\phi_1 - \\phi_2)\n",
      "- \\dot{\\theta_2}^2 \\: \\mathrm{cos} \\: \\theta_1 \\, \\mathrm{sin} \\: \\theta_2 \\, \\mathrm{cos} \\: ( \\phi_1 - \\phi_2)\n",
      "+ \\ddot{\\theta_2} \\: \\mathrm{cos} \\: \\theta_1 \\, \\mathrm{cos} \\: \\theta_2 \\, \\mathrm{cos} \\: ( \\phi_1 - \\phi_2)\n",
      "+ \\ddot{\\theta_2} \\: \\mathrm{sin} \\: \\theta_1 \\, \\mathrm{sin} \\: \\theta_2 \n",
      "+ \\dot{\\theta_2}^2 \\: \\mathrm{sin} \\: \\theta_1 \\, \\mathrm{cos} \\: \\theta_2 \n",
      "- {1 \\over 2} \\dot{\\phi_1}^2 \\, \\mathrm{sin} \\: (2 \\theta_1) + \\mathrm{sin} \\theta_1 = 0\n",
      "$$\n",
      "\n",
      "$\\theta_2$:\n",
      "\n",
      "$$ \\dot{\\phi_1} \\, \\dot{\\theta_2} \\: \\mathrm{sin} \\: \\theta_1 \\, \\mathrm{sin} \\: \\theta_2 \\, \\mathrm{sin} \\: ( \\phi_1 - \\phi_2)\n",
      "+ \\dot{\\phi_2} \\, \\dot{\\theta_1} \\: \\mathrm{cos} \\: \\theta_1 \\, \\mathrm{cos} \\: \\theta_2 \\, \\mathrm{sin} \\: ( \\phi_1 - \\phi_2)\n",
      "+ \\dot{\\phi_1} \\, \\dot{\\phi_2} \\: \\mathrm{sin} \\: \\theta_1 \\, \\mathrm{cos} \\: \\theta_2 \\, \\mathrm{cos} \\: ( \\phi_1 - \\phi_2)\n",
      "- \\dot{\\theta_1} \\, \\dot{\\theta_2} \\: \\mathrm{cos} \\: \\theta_1 \\, \\mathrm{sin} \\: \\theta_2 \\, \\mathrm{cos} \\: ( \\phi_1 - \\phi_2)\n",
      "+ \\dot{\\theta_1} \\, \\dot{\\theta_2} \\: \\mathrm{sin} \\: \\theta_1 \\, \\mathrm{cos} \\: \\theta_2 \n",
      "+ \\dot{\\phi_2}^2 \\: \\mathrm{sin} \\: \\theta_2 \\, \\mathrm{cos} \\: \\theta_2 \n",
      "-  \\mathrm{sin} \\: \\theta_2  = 0\n",
      "$$\n",
      "\n",
      "$\\phi_1$:\n",
      "\n",
      "$$ \\dot{\\phi_1}^2 \\: \\mathrm{sin} \\: \\theta_1 \\, \\mathrm{sin} \\: \\theta_2 \\, \\mathrm{sin} \\: ( \\phi_1 - \\phi_2)\n",
      "+ \\dot{\\theta_2}^2 \\: \\mathrm{sin} \\: \\theta_1 \\, \\mathrm{sin} \\: \\theta_2 \\, \\mathrm{sin} \\: ( \\phi_1 - \\phi_2)\n",
      "- \\ddot{\\theta_2} \\: \\mathrm{sin} \\: \\theta_1 \\, \\mathrm{cos} \\: \\theta_2 \\, \\mathrm{sin} \\: ( \\phi_1 - \\phi_2)\n",
      "+ \\ddot{\\phi_2} \\: \\mathrm{sin} \\: \\theta_1 \\, \\mathrm{sin} \\: \\theta_2 \\, \\mathrm{cos} \\: ( \\phi_1 - \\phi_2)\n",
      "+ 2 \\dot{\\theta_2} \\, \\dot{\\phi_2} \\: \\mathrm{sin} \\: \\theta_1 \\, \\mathrm{cos} \\: \\theta_2 \\, \\mathrm{cos} \\: ( \\phi_1 - \\phi_2)\n",
      "+ \\ddot{\\phi_1} \\, \\mathrm{sin}^2 \\: \\theta_1 + 2 \\, \\dot{\\phi_1} \\, \\dot{\\theta_1} \\:\\mathrm{cos} \\theta_1 = 0\n",
      "$$\n",
      "\n",
      "$\\phi_2$:\n",
      "\n",
      "$$ - \\dot{\\phi_2}^2 \\: \\mathrm{sin} \\: \\theta_1 \\, \\mathrm{sin} \\: \\theta_2 \\, \\mathrm{sin} \\: ( \\phi_1 - \\phi_2)\n",
      "- \\dot{\\theta_1}^2 \\: \\mathrm{sin} \\: \\theta_1 \\, \\mathrm{sin} \\: \\theta_2 \\, \\mathrm{sin} \\: ( \\phi_1 - \\phi_2)\n",
      "+ \\ddot{\\theta_1} \\: \\mathrm{cos} \\: \\theta_1 \\, \\mathrm{sin} \\: \\theta_2 \\, \\mathrm{sin} \\: ( \\phi_1 - \\phi_2)\n",
      "+ \\ddot{\\theta_1} \\: \\mathrm{sin} \\: \\theta_1 \\, \\mathrm{sin} \\: \\theta_2 \\, \\mathrm{cos} \\: ( \\phi_1 - \\phi_2)\n",
      "+ 2 \\dot{\\phi_1} \\, \\dot{\\theta_1} \\: \\mathrm{cos} \\: \\theta_1 \\, \\mathrm{sin} \\: \\theta_2 \\, \\mathrm{cos} \\: ( \\phi_1 - \\phi_2)\n",
      "+ 2 \\dot{\\phi_2} \\, \\dot{\\theta_2} \\: \\mathrm{sin} \\: \\theta_2 \\, \\mathrm{cos} \\: \\theta_2 + \\ddot{\\phi_2} \\: \\mathrm{sin}^2 \\theta_2 = 0\n",
      "$$\n"
     ]
    },
    {
     "cell_type": "heading",
     "level": 4,
     "metadata": {
      "slideshow": {
       "slide_type": "slide"
      }
     },
     "source": [
      "Damping Force"
     ]
    },
    {
     "cell_type": "markdown",
     "metadata": {
      "slideshow": {
       "slide_type": "fragment"
      }
     },
     "source": [
      "The damping force will be of the form $F_{d,q} = -b_q v_q $ where $b$ is some dmping constant and $q$ is a generalized Cartesian component. We define the dissipation function as: \n",
      "\n",
      "$$ \\mathscr{F} = {1 \\over 2} \\Sigma_i (b_x v_{ix}^2 + b_y v_{iy}^2 + b_z v_{iz}^2) $$\n",
      "\n",
      "<br>\n",
      "<center> or alternatively: </center>\n",
      "\n",
      "$$ F_d = - \\Delta \\mathscr{F}$$\n",
      "\n",
      "So to add this to the equations of motion, derivatives are taken of the dissipation function $\\mathscr{F}$ with respect to the angular variables. So each equation of motion will ultimately look like:\n",
      "\n",
      "$${ d \\over dt} {\\partial L \\over \\partial \\dot{q_i}} - {\\partial L \\over \\partial q_i} + {\\partial \\mathscr{F} \\over \\partial \\dot{q_i}} = 0$$\n",
      "\n",
      "In practice, this means replacing the $v_q$ in the damping force with the <i> correct </i> velocity in terms of $(\\theta_1, \\theta_1, \\phi_1, \\phi_2)$ and then taking derivatives of the dissipation function with respect to the first order derivatives of these variables. \n"
     ]
    },
    {
     "cell_type": "heading",
     "level": 4,
     "metadata": {
      "slideshow": {
       "slide_type": "slide"
      }
     },
     "source": [
      "Next Week "
     ]
    },
    {
     "cell_type": "markdown",
     "metadata": {
      "slideshow": {
       "slide_type": "fragment"
      }
     },
     "source": [
      "Integrate the four equations of motion with odeint differential equation solver to begin finding solutions to the double DDSP. "
     ]
    }
   ],
   "metadata": {}
  }
 ]
}