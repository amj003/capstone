{
 "metadata": {
  "name": "",
  "signature": "sha256:c2832e7e63f7ffa856199dd4724fbeb316523e4cb77247dbd15a556423e3d9b3"
 },
 "nbformat": 3,
 "nbformat_minor": 0,
 "worksheets": [
  {
   "cells": [
    {
     "cell_type": "code",
     "collapsed": false,
     "input": [
      "import numpy\n",
      "from sympy import *\n",
      "from sympy.physics.vector import dynamicsymbols\n",
      "init_printing()\n",
      "\n",
      "#Let l = 1, m = 1, g = 1 "
     ],
     "language": "python",
     "metadata": {},
     "outputs": [],
     "prompt_number": 2
    },
    {
     "cell_type": "markdown",
     "metadata": {},
     "source": [
      "Goal: Find the Lagrangian for a double spherical pendulum.\n",
      "\n",
      "The first step is to find the single spherical pendulum Lagrangian. The two degrees of freedom are $\\phi_1$ and $\\theta_1$. The cartesian coordinates of the mass of the pendulum is defined in terms of these two variables. "
     ]
    },
    {
     "cell_type": "code",
     "collapsed": false,
     "input": [
      "#Use dynamicsymbols to make theta_1 and phi_1 depend on time.\n",
      "theta_1 = dynamicsymbols('theta_1')\n",
      "phi_1 = dynamicsymbols('phi_1')\n",
      "d_theta_1 = dynamicsymbols('\\dot{theta_1}')\n",
      "d_phi_1 = dynamicsymbols('\\dot{phi_1}')\n",
      "t = Symbol('t')\n",
      "x_1 = Symbol('x_1')\n",
      "y_1 = Symbol('y_1')\n",
      "z_1 = Symbol('z_1')\n",
      "d_x_1 = Symbol('\\dot{x_1}')\n",
      "d_y_1 = Symbol('\\dot{y_1}')\n",
      "d_z_1 = Symbol('\\dot{z_1}')\n",
      "L = Symbol('L')\n",
      "\n"
     ],
     "language": "python",
     "metadata": {},
     "outputs": [],
     "prompt_number": 3
    },
    {
     "cell_type": "code",
     "collapsed": false,
     "input": [
      "x_1 = sin(theta_1)*cos(phi_1)\n",
      "y_1 = sin(theta_1)*sin(phi_1)\n",
      "z_1 = -cos(theta_1)\n",
      "\n",
      "#Define d_theta_1 and d_phi_1\n",
      "\n",
      "d_theta_1 = diff(theta_1)\n",
      "d_phi_1 = diff(phi_1)\n",
      "\n",
      "#Define the derivatives of the coordinate system \n",
      "\n",
      "d_x_1 = diff(x_1)\n",
      "d_y_1 = diff(y_1)\n",
      "d_z_1 = diff(z_1)\n",
      "\n",
      "#Find the velocity of the pendulum\n",
      "\n",
      "v_1 = simplify(expand((d_x_1)**2 + (d_y_1)**2 + (d_z_1)**2))\n",
      "\n",
      "#Find kinetic energy and potential energy. Kinetic is T = 1/2*m*v**2 and potential is U = mgh where h is just z_1.\n",
      "#Define the lagrangian\n",
      "\n",
      "T = 0.5*v_1\n",
      "U = z_1\n",
      "L = T - U\n"
     ],
     "language": "python",
     "metadata": {},
     "outputs": [],
     "prompt_number": 4
    },
    {
     "cell_type": "markdown",
     "metadata": {},
     "source": [
      "Define $x_1$, $y_1$ and $z_1$ from geometry of the pendulum. \n",
      "\n",
      "$$x_1 = \\text{sin }(\\theta_1)\\text{ cos }(\\phi_1)$$\n",
      "$$y_1 = \\text{sin }(\\theta_1)\\text{ sin }(\\phi_1)$$\n",
      "$$z_1 = -\\text{cos }(\\theta_1)$$"
     ]
    },
    {
     "cell_type": "code",
     "collapsed": false,
     "input": [
      "#Find the equations of motion. Note here that L_d_phi_1 is the generalized force component and L_dd_phi_1 is the \n",
      "#generalized momentum component. \n",
      "L_d_phi_1 = diff(L, phi_1)\n",
      "\n",
      "#Note that L_d_phi_1 = 0\n",
      "\n",
      "L_dd_phi_1 = diff(L, d_phi_1)\n",
      "\n",
      "#Note that L_dd_phi_1 is independent of phi, which means that angular momentum is constant of the motion.\n",
      "#The equation of motion was d/dt(L_dd_phi_1) - L_d_phi_1 = 0. Since L_d_phi_1 = 0, this reduces to d/dt(L_dd_phi_1) = 0.\n",
      "\n",
      "#If we want to do a 2D Poincare plot of the motion with d_phi_1 on the y axis and phi_1 on the x axis. Therefore we need\n",
      "#to solve for d_phi_1.\n",
      "\n",
      "solve(diff(L_dd_phi_1), d_phi_1)\n"
     ],
     "language": "python",
     "metadata": {},
     "outputs": [
      {
       "output_type": "stream",
       "stream": "stderr",
       "text": [
        "/Users/Alex/anaconda/lib/python2.7/site-packages/IPython/core/formatters.py:239: FormatterWarning: Exception in image/png formatter: \n",
        "\\begin{bmatrix}- \\frac{0.5 \\frac{d^{2}}{d t^{2}}  \\phi_{1}{\\left (t \\right )}}{\\frac{d}{d t} \\theta_{1}{\\left (t \\right )}} \\tan{\\left (\\theta_{1}{\\left (t \\right )} \\right )}\\end{bmatrix}\n",
        "^\n",
        "Unknown symbol: \\begin (at char 0), (line:1, col:1)\n",
        "  FormatterWarning,\n"
       ]
      },
      {
       "latex": [
        "$$\\begin{bmatrix}- \\frac{0.5 \\frac{d^{2}}{d t^{2}}  \\phi_{1}{\\left (t \\right )}}{\\frac{d}{d t} \\theta_{1}{\\left (t \\right )}} \\tan{\\left (\\theta_{1}{\\left (t \\right )} \\right )}\\end{bmatrix}$$"
       ],
       "metadata": {},
       "output_type": "pyout",
       "prompt_number": 5,
       "text": [
        "\u23a1                  2        \u23a4\n",
        "\u23a2                 d         \u23a5\n",
        "\u23a2-0.5\u22c5tan(\u03b8\u2081(t))\u22c5\u2500\u2500\u2500(\u03c6\u2081(t)) \u23a5\n",
        "\u23a2                  2        \u23a5\n",
        "\u23a2                dt         \u23a5\n",
        "\u23a2\u2500\u2500\u2500\u2500\u2500\u2500\u2500\u2500\u2500\u2500\u2500\u2500\u2500\u2500\u2500\u2500\u2500\u2500\u2500\u2500\u2500\u2500\u2500\u2500\u2500\u2500\u2500\u23a5\n",
        "\u23a2         d                 \u23a5\n",
        "\u23a2         \u2500\u2500(\u03b8\u2081(t))         \u23a5\n",
        "\u23a3         dt                \u23a6"
       ]
      }
     ],
     "prompt_number": 5
    },
    {
     "cell_type": "code",
     "collapsed": false,
     "input": [
      "L_d_theta_1 = diff(L, theta_1)\n",
      "L_dd_theta_1 = diff(L, d_theta_1)\n",
      "\n",
      "diff(L_dd_theta_1) - L_d_theta_1"
     ],
     "language": "python",
     "metadata": {},
     "outputs": [
      {
       "latex": [
        "$$- 1.0 \\sin{\\left (\\theta_{1}{\\left (t \\right )} \\right )} \\cos{\\left (\\theta_{1}{\\left (t \\right )} \\right )} \\left(\\frac{d}{d t} \\phi_{1}{\\left (t \\right )}\\right)^{2} + \\sin{\\left (\\theta_{1}{\\left (t \\right )} \\right )} + 1.0 \\frac{d^{2}}{d t^{2}}  \\theta_{1}{\\left (t \\right )}$$"
       ],
       "metadata": {},
       "output_type": "pyout",
       "png": "[encoded data removed]",
       "prompt_number": 6,
       "text": [
        "                                       2                      2       \n",
        "                            \u239bd        \u239e                      d        \n",
        "- 1.0\u22c5sin(\u03b8\u2081(t))\u22c5cos(\u03b8\u2081(t))\u22c5\u239c\u2500\u2500(\u03c6\u2081(t))\u239f  + sin(\u03b8\u2081(t)) + 1.0\u22c5\u2500\u2500\u2500(\u03b8\u2081(t))\n",
        "                            \u239ddt       \u23a0                       2       \n",
        "                                                            dt        "
       ]
      }
     ],
     "prompt_number": 6
    },
    {
     "cell_type": "code",
     "collapsed": false,
     "input": [
      "theta_2 = dynamicsymbols('theta_2')\n",
      "phi_2 = dynamicsymbols('\\phi_2')\n",
      "x_2 = Symbol('x_2')\n",
      "y_2 = Symbol('y_2')\n",
      "z_2 = Symbol('z_2')\n",
      "d_x_2 = Symbol('\\dot{x_2}')\n",
      "d_y_2 = Symbol('\\dot{y_2}')\n",
      "d_z_2 = Symbol('\\dot{z_2}')\n"
     ],
     "language": "python",
     "metadata": {},
     "outputs": [],
     "prompt_number": 7
    },
    {
     "cell_type": "markdown",
     "metadata": {},
     "source": [
      "Define $x_2$, $y_2$ and $z_2$ from geometry of the pendulum. \n",
      "\n",
      "$$x_2 = \\text{sin }(\\theta_1)\\text{ cos }(\\phi_2) + \\text{sin }(\\theta_2)\\text{ cos }(\\phi_2)$$\n",
      "$$y_2 = \\text{sin }(\\theta_1)\\text{ sin }(\\phi_2) + \\text{sin }(\\theta_2)\\text{ sin }(\\phi_2)$$\n",
      "$$z_2 = -\\text{cos }(\\theta_1) -\\text{cos }(\\theta_2)$$"
     ]
    },
    {
     "cell_type": "code",
     "collapsed": false,
     "input": [
      "x_2 = sin(theta_1)*cos(phi_2) + sin(theta_2)*cos(phi_2)\n",
      "y_2 = sin(theta_1)*sin(phi_2) + sin(theta_2)*sin(phi_2)\n",
      "z_2 = -cos(theta_1) - cos(theta_2)\n",
      "\n",
      "d_x_2 = diff(x_2)\n",
      "d_y_2 = diff(y_2)\n",
      "d_z_2 = diff(z_2)\n",
      "\n",
      "d_theta_2 = diff(theta_2)\n",
      "d_phi_2 = diff(phi_2)\n",
      "\n",
      "v_2 = simplify(expand((d_x_2)**2 + (d_y_2)**2 + (d_z_2)**2))\n",
      "T = 0.5*v_2\n",
      "U = -z_2\n",
      "L = T - U\n",
      "\n",
      "L\n",
      "\n"
     ],
     "language": "python",
     "metadata": {},
     "outputs": [
      {
       "latex": [
        "$$0.5 \\sin^{2}{\\left (\\theta_{1}{\\left (t \\right )} \\right )} \\left(\\frac{d}{d t} \\phi_{2}{\\left (t \\right )}\\right)^{2} + 1.0 \\sin{\\left (\\theta_{1}{\\left (t \\right )} \\right )} \\sin{\\left (\\theta_{2}{\\left (t \\right )} \\right )} \\left(\\frac{d}{d t} \\phi_{2}{\\left (t \\right )}\\right)^{2} + 0.5 \\sin^{2}{\\left (\\theta_{2}{\\left (t \\right )} \\right )} \\left(\\frac{d}{d t} \\phi_{2}{\\left (t \\right )}\\right)^{2} + 1.0 \\cos{\\left (\\theta_{1}{\\left (t \\right )} - \\theta_{2}{\\left (t \\right )} \\right )} \\frac{d}{d t} \\theta_{1}{\\left (t \\right )} \\frac{d}{d t} \\theta_{2}{\\left (t \\right )} - \\cos{\\left (\\theta_{1}{\\left (t \\right )} \\right )} - \\cos{\\left (\\theta_{2}{\\left (t \\right )} \\right )} + 0.5 \\left(\\frac{d}{d t} \\theta_{1}{\\left (t \\right )}\\right)^{2} + 0.5 \\left(\\frac{d}{d t} \\theta_{2}{\\left (t \\right )}\\right)^{2}$$"
       ],
       "metadata": {},
       "output_type": "pyout",
       "png": "[encoded data removed]",
       "prompt_number": 8,
       "text": [
        "                              2                                           2   \n",
        "       2        \u239bd           \u239e                              \u239bd           \u239e    \n",
        "0.5\u22c5sin (\u03b8\u2081(t))\u22c5\u239c\u2500\u2500(\\phi\u2082(t))\u239f  + 1.0\u22c5sin(\u03b8\u2081(t))\u22c5sin(\u03b8\u2082(t))\u22c5\u239c\u2500\u2500(\\phi\u2082(t))\u239f  + \n",
        "                \u239ddt          \u23a0                              \u239ddt          \u23a0    \n",
        "\n",
        "                              2                                               \n",
        "       2        \u239bd           \u239e                           d         d          \n",
        "0.5\u22c5sin (\u03b8\u2082(t))\u22c5\u239c\u2500\u2500(\\phi\u2082(t))\u239f  + 1.0\u22c5cos(\u03b8\u2081(t) - \u03b8\u2082(t))\u22c5\u2500\u2500(\u03b8\u2081(t))\u22c5\u2500\u2500(\u03b8\u2082(t)) -\n",
        "                \u239ddt          \u23a0                           dt        dt         \n",
        "\n",
        "                                          2                  2\n",
        "                               \u239bd        \u239e        \u239bd        \u239e \n",
        " cos(\u03b8\u2081(t)) - cos(\u03b8\u2082(t)) + 0.5\u22c5\u239c\u2500\u2500(\u03b8\u2081(t))\u239f  + 0.5\u22c5\u239c\u2500\u2500(\u03b8\u2082(t))\u239f \n",
        "                               \u239ddt       \u23a0        \u239ddt       \u23a0 "
       ]
      }
     ],
     "prompt_number": 8
    },
    {
     "cell_type": "code",
     "collapsed": false,
     "input": [
      "L_d_theta_1 = diff(L, theta_1)\n",
      "\n",
      "L_dd_theta_1 = diff(L, d_theta_1)\n",
      "simplify(diff(L_dd_theta_1) - L_d_theta_1)"
     ],
     "language": "python",
     "metadata": {},
     "outputs": [
      {
       "latex": [
        "$$1.0 \\sin{\\left (\\theta_{1}{\\left (t \\right )} - \\theta_{2}{\\left (t \\right )} \\right )} \\left(\\frac{d}{d t} \\theta_{2}{\\left (t \\right )}\\right)^{2} - 1.0 \\sin{\\left (\\theta_{1}{\\left (t \\right )} \\right )} - 0.5 \\sin{\\left (2 \\theta_{1}{\\left (t \\right )} \\right )} \\left(\\frac{d}{d t} \\phi_{2}{\\left (t \\right )}\\right)^{2} - 1.0 \\sin{\\left (\\theta_{2}{\\left (t \\right )} \\right )} \\cos{\\left (\\theta_{1}{\\left (t \\right )} \\right )} \\left(\\frac{d}{d t} \\phi_{2}{\\left (t \\right )}\\right)^{2} + 1.0 \\cos{\\left (\\theta_{1}{\\left (t \\right )} - \\theta_{2}{\\left (t \\right )} \\right )} \\frac{d^{2}}{d t^{2}}  \\theta_{2}{\\left (t \\right )} + 1.0 \\frac{d^{2}}{d t^{2}}  \\theta_{1}{\\left (t \\right )}$$"
       ],
       "metadata": {},
       "output_type": "pyout",
       "png": "[encoded data removed]",
       "prompt_number": 18,
       "text": [
        "                                  2                                           \n",
        "                       \u239bd        \u239e                                      \u239bd    \n",
        "1.0\u22c5sin(\u03b8\u2081(t) - \u03b8\u2082(t))\u22c5\u239c\u2500\u2500(\u03b8\u2082(t))\u239f  - 1.0\u22c5sin(\u03b8\u2081(t)) - 0.5\u22c5sin(2\u22c5\u03b8\u2081(t))\u22c5\u239c\u2500\u2500(\\p\n",
        "                       \u239ddt       \u23a0                                      \u239ddt   \n",
        "                                                                              \n",
        "\n",
        "        2                                           2                         \n",
        "       \u239e                              \u239bd           \u239e                          \n",
        "hi\u2082(t))\u239f  - 1.0\u22c5sin(\u03b8\u2082(t))\u22c5cos(\u03b8\u2081(t))\u22c5\u239c\u2500\u2500(\\phi\u2082(t))\u239f  + 1.0\u22c5cos(\u03b8\u2081(t) - \u03b8\u2082(t))\n",
        "       \u23a0                              \u239ddt          \u23a0                          \n",
        "                                                                              \n",
        "\n",
        "   2                2       \n",
        "  d                d        \n",
        "\u22c5\u2500\u2500\u2500(\u03b8\u2082(t)) + 1.0\u22c5\u2500\u2500\u2500(\u03b8\u2081(t))\n",
        "   2                2       \n",
        " dt               dt        "
       ]
      }
     ],
     "prompt_number": 18
    },
    {
     "cell_type": "code",
     "collapsed": false,
     "input": [
      "L_d_theta_2 = diff(L, theta_2)\n",
      "L_dd_theta_2 = diff(L, d_theta_2)\n",
      "\n",
      "simplify(diff(L_dd_theta_2) - L_d_theta_2)"
     ],
     "language": "python",
     "metadata": {},
     "outputs": [
      {
       "latex": [
        "$$- 1.0 \\sin{\\left (\\theta_{1}{\\left (t \\right )} - \\theta_{2}{\\left (t \\right )} \\right )} \\left(\\frac{d}{d t} \\theta_{1}{\\left (t \\right )}\\right)^{2} - 1.0 \\sin{\\left (\\theta_{1}{\\left (t \\right )} \\right )} \\cos{\\left (\\theta_{2}{\\left (t \\right )} \\right )} \\left(\\frac{d}{d t} \\phi_{2}{\\left (t \\right )}\\right)^{2} - 1.0 \\sin{\\left (\\theta_{2}{\\left (t \\right )} \\right )} - 0.5 \\sin{\\left (2 \\theta_{2}{\\left (t \\right )} \\right )} \\left(\\frac{d}{d t} \\phi_{2}{\\left (t \\right )}\\right)^{2} + 1.0 \\cos{\\left (\\theta_{1}{\\left (t \\right )} - \\theta_{2}{\\left (t \\right )} \\right )} \\frac{d^{2}}{d t^{2}}  \\theta_{1}{\\left (t \\right )} + 1.0 \\frac{d^{2}}{d t^{2}}  \\theta_{2}{\\left (t \\right )}$$"
       ],
       "metadata": {},
       "output_type": "pyout",
       "png": "[encoded data removed]",
       "prompt_number": 19,
       "text": [
        "                                    2                                         \n",
        "                         \u239bd        \u239e                              \u239bd          \n",
        "- 1.0\u22c5sin(\u03b8\u2081(t) - \u03b8\u2082(t))\u22c5\u239c\u2500\u2500(\u03b8\u2081(t))\u239f  - 1.0\u22c5sin(\u03b8\u2081(t))\u22c5cos(\u03b8\u2082(t))\u22c5\u239c\u2500\u2500(\\phi\u2082(t)\n",
        "                         \u239ddt       \u23a0                              \u239ddt         \n",
        "                                                                              \n",
        "\n",
        "  2                                                   2                       \n",
        " \u239e                                      \u239bd           \u239e                        \n",
        ")\u239f  - 1.0\u22c5sin(\u03b8\u2082(t)) - 0.5\u22c5sin(2\u22c5\u03b8\u2082(t))\u22c5\u239c\u2500\u2500(\\phi\u2082(t))\u239f  + 1.0\u22c5cos(\u03b8\u2081(t) - \u03b8\u2082(t\n",
        " \u23a0                                      \u239ddt          \u23a0                        \n",
        "                                                                              \n",
        "\n",
        "     2                2       \n",
        "    d                d        \n",
        "))\u22c5\u2500\u2500\u2500(\u03b8\u2081(t)) + 1.0\u22c5\u2500\u2500\u2500(\u03b8\u2082(t))\n",
        "     2                2       \n",
        "   dt               dt        "
       ]
      }
     ],
     "prompt_number": 19
    },
    {
     "cell_type": "code",
     "collapsed": false,
     "input": [],
     "language": "python",
     "metadata": {},
     "outputs": []
    }
   ],
   "metadata": {}
  }
 ]
}