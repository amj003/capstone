{
 "metadata": {
  "name": "",
  "signature": "sha256:6edaa062f2c70c3f7810ca6a4d4a085ad6cbd0d1c6103a498875b52430698eaa"
 },
 "nbformat": 3,
 "nbformat_minor": 0,
 "worksheets": [
  {
   "cells": [
    {
     "cell_type": "markdown",
     "metadata": {},
     "source": [
      "$$ \\ddot{\\theta_2} \\mathrm{cos}(\\theta_1 - \\theta_2) + \\dot{\\theta_2^2} \\mathrm{sin} (\\theta_1 - \\theta_2)  + \\ddot{\\theta_1} - \\mathrm{sin}(\\theta_1) = 0 $$\n",
      "\n",
      "$$\\ddot{\\theta_1} \\mathrm{cos}(\\theta_1 - \\theta_2) - \\dot{\\theta_1^2} \\mathrm{sin} (\\theta_1 - \\theta_2)  + \\ddot{\\theta_2} - \\mathrm{sin}(\\theta_2) = 0 $$"
     ]
    },
    {
     "cell_type": "code",
     "collapsed": false,
     "input": [],
     "language": "python",
     "metadata": {},
     "outputs": []
    }
   ],
   "metadata": {}
  }
 ]
}